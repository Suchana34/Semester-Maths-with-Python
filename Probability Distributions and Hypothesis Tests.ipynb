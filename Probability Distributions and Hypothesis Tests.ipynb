{
 "cells": [
  {
   "cell_type": "markdown",
   "metadata": {},
   "source": [
    "**Binomial Distribution** : Binomial distribution is a discrete probability distribution which has several applications in business contexts. A random variable is said to follow a binomial distriution when:\n",
    "    a. It can have 2 outcomes: success and failure\n",
    "    b. Getting x successes out of n trials\n",
    "    c. Probability p is constant throughout the event.\n",
    "    \n",
    "PMF(x) = P(X=x) = (nCx)* (p"
   ]
  },
  {
   "cell_type": "markdown",
   "metadata": {},
   "source": [
    "Problem statement : SREE CLOTHING is a clothing company selling clothes on a daily basis. It is observed that 10% of their customers return the items for many reasons. On a specific day, 20 customers purchased items from the shop. Calculate:\n",
    "1. Probability that exactly 5 customers will return the items.\n",
    "2. Probability that a maximum of 5 customers will return the items.\n",
    "3. Probability that more than 5 customers will return the items.\n",
    "4. Average number of customers who are likely to return the items and the variance and the standard deviation of the number of returns."
   ]
  },
  {
   "cell_type": "markdown",
   "metadata": {},
   "source": [
    "1.Probability that exactly 5 customers will return the items\n",
    "We will use scipy library in this case.\n",
    "The function stats.binom.pmf() calculates PMF for binomial distribution and takes the three parameters.\n",
    "Successful trials, Total trials, Probability of success."
   ]
  },
  {
   "cell_type": "code",
   "execution_count": 1,
   "metadata": {},
   "outputs": [
    {
     "data": {
      "text/plain": [
       "0.03192136111995428"
      ]
     },
     "execution_count": 1,
     "metadata": {},
     "output_type": "execute_result"
    }
   ],
   "source": [
    "from scipy import stats\n",
    "stats.binom.pmf(5, 20, 0.1)"
   ]
  },
  {
   "cell_type": "markdown",
   "metadata": {},
   "source": [
    "To visualise how the PMF varies with increasing number of successful trials, lets create a list with all number of successes ( 0 to 20) and draw a bar plot."
   ]
  },
  {
   "cell_type": "code",
   "execution_count": 2,
   "metadata": {},
   "outputs": [],
   "source": [
    "import pandas as pd"
   ]
  },
  {
   "cell_type": "code",
   "execution_count": 3,
   "metadata": {},
   "outputs": [],
   "source": [
    "pmf_data = pd.DataFrame({'success' : range(0,21), 'pmf' : list(stats.binom.pmf(range(0,21), 20, 0.1) )})"
   ]
  },
  {
   "cell_type": "code",
   "execution_count": 4,
   "metadata": {},
   "outputs": [],
   "source": [
    "# for plotting the data\n",
    "import seaborn as sn\n",
    "import matplotlib.pyplot as plt"
   ]
  },
  {
   "cell_type": "code",
   "execution_count": 6,
   "metadata": {},
   "outputs": [
    {
     "data": {
      "text/plain": [
       "Text(0.5, 0, 'Number of items returned')"
      ]
     },
     "execution_count": 6,
     "metadata": {},
     "output_type": "execute_result"
    },
    {
     "data": {
      "image/png": "[encoded data removed]",
      "text/plain": [
       "<Figure size 432x288 with 1 Axes>"
      ]
     },
     "metadata": {
      "needs_background": "light"
     },
     "output_type": "display_data"
    }
   ],
   "source": [
    "sn.barplot(x = pmf_data.success, y = pmf_data.pmf)\n",
    "plt.ylabel('pmf')\n",
    "plt.xlabel('Number of items returned')"
   ]
  },
  {
   "cell_type": "markdown",
   "metadata": {},
   "source": [
    "2. Probability that maximum of 5 customers will return the items.\n",
    "stats.binom.cdf() computes the CDF for binomial distribution."
   ]
  },
  {
   "cell_type": "code",
   "execution_count": 7,
   "metadata": {},
   "outputs": [
    {
     "data": {
      "text/plain": [
       "0.988746865835491"
      ]
     },
     "execution_count": 7,
     "metadata": {},
     "output_type": "execute_result"
    }
   ],
   "source": [
    "stats.binom.cdf(5, 20, 0.1)"
   ]
  },
  {
   "cell_type": "markdown",
   "metadata": {},
   "source": [
    "3. Probability that more than 5 customers will return the items."
   ]
  },
  {
   "cell_type": "code",
   "execution_count": 8,
   "metadata": {},
   "outputs": [
    {
     "data": {
      "text/plain": [
       "0.011253134164509015"
      ]
     },
     "execution_count": 8,
     "metadata": {},
     "output_type": "execute_result"
    }
   ],
   "source": [
    "1 - stats.binom.cdf(5, 20, 0.1)"
   ]
  },
  {
   "cell_type": "markdown",
   "metadata": {},
   "source": [
    "Average number of customers who are likely to return the items and the variance and the standard deviation of the number of returns.\n",
    "Average is given by n*p\n",
    "Variance is given by n*p*(1-p)"
   ]
  },
  {
   "cell_type": "code",
   "execution_count": 9,
   "metadata": {},
   "outputs": [
    {
     "name": "stdout",
     "output_type": "stream",
     "text": [
      "Average : 2.0 Variance : 1.8\n"
     ]
    }
   ],
   "source": [
    "mean,var = stats.binom.stats(20, 0.1)\n",
    "print('Average :', mean, 'Variance :', var)"
   ]
  },
  {
   "cell_type": "markdown",
   "metadata": {},
   "source": [
    "**Poisson Distribution**: It is used in calculating the number of events that may occur over a period of time and space.\n",
    "We need a rate of occurence denoted by "
   ]
  },
  {
   "cell_type": "markdown",
   "metadata": {},
   "source": [
    "Problem Statement: The number of cash withdrawals at an ATM follows a Poisson Distribution at 10 withdrawals per hour.\n",
    "Calculate:\n",
    "1. Probability that  maximum of 5 withdrawals will happen.\n",
    "2. Probability that a number of withdrawals over a period of 3 hours will exceed 30."
   ]
  },
  {
   "cell_type": "markdown",
   "metadata": {},
   "source": [
    "1. Probability that maximum of 5 withdrawals will happen.\n",
    "\n",
    "We need two parameters - the total number of events in this case and the lambda(average number of events per hour), here 10*1 = 10 "
   ]
  },
  {
   "cell_type": "code",
   "execution_count": 10,
   "metadata": {},
   "outputs": [
    {
     "data": {
      "text/plain": [
       "0.06708596287903189"
      ]
     },
     "execution_count": 10,
     "metadata": {},
     "output_type": "execute_result"
    }
   ],
   "source": [
    "stats.poisson.cdf(5, 10)"
   ]
  },
  {
   "cell_type": "markdown",
   "metadata": {},
   "source": [
    "2.Probability that a number of withdrawals over a period of 3 hours will exceed 30.\n",
    "\n",
    "The total number of events in this case is 30.\n",
    "Here mean number of events is equal to the product of lambda and the time = 3*10 = 30."
   ]
  },
  {
   "cell_type": "code",
   "execution_count": 11,
   "metadata": {},
   "outputs": [
    {
     "data": {
      "text/plain": [
       "0.45164848742208863"
      ]
     },
     "execution_count": 11,
     "metadata": {},
     "output_type": "execute_result"
    }
   ],
   "source": [
    "# will be 30\n",
    "#stats.poisson.cdf(30, 30)\n",
    "#exceed 30\n",
    "1-stats.poisson.cdf(30, 30)"
   ]
  },
  {
   "cell_type": "markdown",
   "metadata": {},
   "source": [
    "Visualising the PMF varying with increasing number of withdrawals ranging from 0 to 30, with average withdrawals per hour = 10"
   ]
  },
  {
   "cell_type": "code",
   "execution_count": 14,
   "metadata": {},
   "outputs": [],
   "source": [
    "pmf_data_poisson = pd.DataFrame({'success' : range(0, 31), 'pmf' : list(stats.poisson.pmf(range(0,31), 10))})"
   ]
  },
  {
   "cell_type": "code",
   "execution_count": 15,
   "metadata": {},
   "outputs": [
    {
     "data": {
      "text/plain": [
       "Text(0, 0.5, 'pmf')"
      ]
     },
     "execution_count": 15,
     "metadata": {},
     "output_type": "execute_result"
    },
    {
     "data": {
      "image/png": "[encoded data removed]",
      "text/plain": [
       "<Figure size 432x288 with 1 Axes>"
      ]
     },
     "metadata": {
      "needs_background": "light"
     },
     "output_type": "display_data"
    }
   ],
   "source": [
    "sn.barplot(x = pmf_data_poisson.success, y = pmf_data_poisson.pmf)\n",
    "plt.xlabel('number of withdrawals')\n",
    "plt.ylabel('pmf')"
   ]
  },
  {
   "cell_type": "markdown",
   "metadata": {},
   "source": [
    "**Exponential Distribution**: It is a single parameter continuous probability distribution that is used for modeling time-to-failure of electronic components or the radioactivity of chemical elements. The random variable here is continuous in nature and occurs independently at a constant average rate."
   ]
  },
  {
   "cell_type": "markdown",
   "metadata": {},
   "source": [
    "Probelem statement : The time to failure of a gadget follows an Exponential Distribution with a mean time between failures of 1000 hrs. Calculate:\n",
    "1. Probability that gagdet will fail before 1000 hrs.\n",
    "2. Probability that gagdet will not fail upto 2000 hrs.\n",
    "3. The time by which 10% of the gadget will fail."
   ]
  },
  {
   "cell_type": "markdown",
   "metadata": {},
   "source": [
    "1.Probability that gagdet will fail before 1000 hrs.\n",
    "\n",
    "CDF upto 1000 will give the probability of failing before 1000 hrs. \n",
    "The stats.expon.cdf() function takes parameters the number of hrs, the mean, and scale of exponential distribution."
   ]
  },
  {
   "cell_type": "code",
   "execution_count": 22,
   "metadata": {},
   "outputs": [
    {
     "data": {
      "text/plain": [
       "0.6321201909489326"
      ]
     },
     "execution_count": 22,
     "metadata": {},
     "output_type": "execute_result"
    }
   ],
   "source": [
    "stats.expon.cdf(1000, 1/1000, 1000)"
   ]
  },
  {
   "cell_type": "markdown",
   "metadata": {},
   "source": [
    "2. Probability that gagdet will not fail upto 2000 hrs."
   ]
  },
  {
   "cell_type": "code",
   "execution_count": 23,
   "metadata": {},
   "outputs": [
    {
     "data": {
      "text/plain": [
       "0.13533541857196352"
      ]
     },
     "execution_count": 23,
     "metadata": {},
     "output_type": "execute_result"
    }
   ],
   "source": [
    "1 - stats.expon.cdf(2000, 1/1000, 1000)"
   ]
  },
  {
   "cell_type": "markdown",
   "metadata": {},
   "source": [
    "3. The time by which 10% of the gadget will fail.\n",
    "\n",
    "This is calculated by ppf(percent point function) and is an inverse of CDF. stats.expon.ppf() takes the percent point value and the mean and the scale of the exponential distribution."
   ]
  },
  {
   "cell_type": "code",
   "execution_count": 24,
   "metadata": {},
   "outputs": [
    {
     "data": {
      "text/plain": [
       "105.36151565782632"
      ]
     },
     "execution_count": 24,
     "metadata": {},
     "output_type": "execute_result"
    }
   ],
   "source": [
    "stats.expon.ppf(0.1, 1/1000, 1000)"
   ]
  },
  {
   "cell_type": "code",
   "execution_count": null,
   "metadata": {},
   "outputs": [],
   "source": []
  }
 ],
 "metadata": {
  "kernelspec": {
   "display_name": "Python 3",
   "language": "python",
   "name": "python3"
  },
  "language_info": {
   "codemirror_mode": {
    "name": "ipython",
    "version": 3
   },
   "file_extension": ".py",
   "mimetype": "text/x-python",
   "name": "python",
   "nbconvert_exporter": "python",
   "pygments_lexer": "ipython3",
   "version": "3.7.1"
  }
 },
 "nbformat": 4,
 "nbformat_minor": 2
}
